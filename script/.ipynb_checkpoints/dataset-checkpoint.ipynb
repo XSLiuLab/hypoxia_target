{
 "cells": [
  {
   "cell_type": "code",
   "execution_count": 5,
   "id": "8e5bdae9-0edb-4e39-a9de-b57c67521d07",
   "metadata": {
    "tags": []
   },
   "outputs": [],
   "source": [
    "from geneformer import TranscriptomeTokenizer"
   ]
  },
  {
   "cell_type": "code",
   "execution_count": 6,
   "id": "274ade31-78e3-4086-aa08-5a7bb390271d",
   "metadata": {
    "tags": []
   },
   "outputs": [],
   "source": [
    "tk = TranscriptomeTokenizer({\"train_test\": \"train_test\", \"cell_state_hypo\":\"cell_state_hypo\",\"cell_state_pcd\":\"cell_state_pcd\"}, nproc=6)"
   ]
  },
  {
   "cell_type": "code",
   "execution_count": 7,
   "id": "e71ceb12-7da2-4dd9-8f62-014c0d6e9739",
   "metadata": {
    "tags": []
   },
   "outputs": [
    {
     "name": "stdout",
     "output_type": "stream",
     "text": [
      "Tokenizing /root/autodl-tmp/pcd_dataset/pcd_obj.loom\n",
      "/root/autodl-tmp/pcd_dataset/pcd_obj.loom has no column attribute 'filter_pass'; tokenizing all cells.\n",
      "Creating dataset.\n"
     ]
    },
    {
     "data": {
      "application/vnd.jupyter.widget-view+json": {
       "model_id": "3e27baa3ee524de0ae14f1a2ef0a3d28",
       "version_major": 2,
       "version_minor": 0
      },
      "text/plain": [
       "Map (num_proc=6):   0%|          | 0/42549 [00:00<?, ? examples/s]"
      ]
     },
     "metadata": {},
     "output_type": "display_data"
    },
    {
     "data": {
      "application/vnd.jupyter.widget-view+json": {
       "model_id": "3397fa081f42448fb91472fe3f4d590c",
       "version_major": 2,
       "version_minor": 0
      },
      "text/plain": [
       "Saving the dataset (0/1 shards):   0%|          | 0/42549 [00:00<?, ? examples/s]"
      ]
     },
     "metadata": {},
     "output_type": "display_data"
    }
   ],
   "source": [
    "tk.tokenize_data(\"/root/autodl-tmp/pcd_dataset/\", \n",
    "                 \"/root/autodl-tmp/pcd_dataset/\", \n",
    "                 \"pcd_token\", \n",
    "                 file_format=\"loom\")"
   ]
  },
  {
   "cell_type": "code",
   "execution_count": 8,
   "id": "0cea6d46-d7dd-47ec-b70e-4843655fd5b7",
   "metadata": {
    "tags": []
   },
   "outputs": [
    {
     "name": "stdout",
     "output_type": "stream",
     "text": [
      "Tokenizing /root/autodl-tmp/pcd_dataset/test/pcd_obj_test.loom\n",
      "/root/autodl-tmp/pcd_dataset/test/pcd_obj_test.loom has no column attribute 'filter_pass'; tokenizing all cells.\n",
      "Creating dataset.\n"
     ]
    },
    {
     "data": {
      "application/vnd.jupyter.widget-view+json": {
       "model_id": "08a1fa5e582948da882c7b01c2ec653d",
       "version_major": 2,
       "version_minor": 0
      },
      "text/plain": [
       "Map (num_proc=6):   0%|          | 0/18146 [00:00<?, ? examples/s]"
      ]
     },
     "metadata": {},
     "output_type": "display_data"
    },
    {
     "data": {
      "application/vnd.jupyter.widget-view+json": {
       "model_id": "cdc734c9e2584adf9ada24f6a5aa386b",
       "version_major": 2,
       "version_minor": 0
      },
      "text/plain": [
       "Saving the dataset (0/1 shards):   0%|          | 0/18146 [00:00<?, ? examples/s]"
      ]
     },
     "metadata": {},
     "output_type": "display_data"
    }
   ],
   "source": [
    "###test data\n",
    "tk = TranscriptomeTokenizer({\"cell_state\": \"cell_state\", \"individual\":\"individual\"}, nproc=6)\n",
    "tk.tokenize_data(\"/root/autodl-tmp/pcd_dataset/test/\", \n",
    "                 \"/root/autodl-tmp/pcd_dataset/test/\", \n",
    "                 \"pcd_token\", \n",
    "                 file_format=\"loom\")"
   ]
  },
  {
   "cell_type": "code",
   "execution_count": 9,
   "id": "02af2f78-6b0a-469f-ad5f-954bda5a4557",
   "metadata": {
    "tags": []
   },
   "outputs": [
    {
     "name": "stdout",
     "output_type": "stream",
     "text": [
      "Tokenizing /root/autodl-tmp/perturbation/pcd_obj_comb.loom\n",
      "/root/autodl-tmp/perturbation/pcd_obj_comb.loom has no column attribute 'filter_pass'; tokenizing all cells.\n",
      "Creating dataset.\n"
     ]
    },
    {
     "data": {
      "application/vnd.jupyter.widget-view+json": {
       "model_id": "5b1ea0623d35459dbce1443e37e40348",
       "version_major": 2,
       "version_minor": 0
      },
      "text/plain": [
       "Map (num_proc=6):   0%|          | 0/60695 [00:00<?, ? examples/s]"
      ]
     },
     "metadata": {},
     "output_type": "display_data"
    },
    {
     "data": {
      "application/vnd.jupyter.widget-view+json": {
       "model_id": "688243da91b740869f06c31886910ace",
       "version_major": 2,
       "version_minor": 0
      },
      "text/plain": [
       "Saving the dataset (0/1 shards):   0%|          | 0/60695 [00:00<?, ? examples/s]"
      ]
     },
     "metadata": {},
     "output_type": "display_data"
    }
   ],
   "source": [
    "###permutation\n",
    "tk = TranscriptomeTokenizer({\"cell_state_hypo\": \"cell_state_hypo\",\n",
    "                            \"cell_state_pcd\": \"cell_state_pcd\"}, nproc=6)\n",
    "tk.tokenize_data(\"/root/autodl-tmp/perturbation/\", \n",
    "                 \"/root/autodl-tmp/perturbation/\", \n",
    "                 \"per\", \n",
    "                 file_format=\"loom\")"
   ]
  },
  {
   "cell_type": "code",
   "execution_count": 11,
   "id": "9f03ad37-aa52-4dc3-b0fa-ec73e9286c0d",
   "metadata": {
    "tags": []
   },
   "outputs": [
    {
     "name": "stdout",
     "output_type": "stream",
     "text": [
      "Tokenizing /root/autodl-tmp/InSilicoPer/no_hypoxia/pcd_obj_no_hypoxia.loom\n",
      "/root/autodl-tmp/InSilicoPer/no_hypoxia/pcd_obj_no_hypoxia.loom has no column attribute 'filter_pass'; tokenizing all cells.\n",
      "Creating dataset.\n"
     ]
    },
    {
     "data": {
      "application/vnd.jupyter.widget-view+json": {
       "model_id": "7d660c1a891e4b52bf2df350311c9e67",
       "version_major": 2,
       "version_minor": 0
      },
      "text/plain": [
       "Map (num_proc=6):   0%|          | 0/7683 [00:00<?, ? examples/s]"
      ]
     },
     "metadata": {},
     "output_type": "display_data"
    },
    {
     "data": {
      "application/vnd.jupyter.widget-view+json": {
       "model_id": "58c8b6d74b094351bf2fa1d294315e15",
       "version_major": 2,
       "version_minor": 0
      },
      "text/plain": [
       "Saving the dataset (0/1 shards):   0%|          | 0/7683 [00:00<?, ? examples/s]"
      ]
     },
     "metadata": {},
     "output_type": "display_data"
    }
   ],
   "source": [
    "tk = TranscriptomeTokenizer({\"cell_state\": \"cell_state\"}, nproc=6)\n",
    "tk.tokenize_data(\"/root/autodl-tmp/InSilicoPer/no_hypoxia/\", \n",
    "                 \"/root/autodl-tmp/InSilicoPer/no_hypoxia/\", \n",
    "                 \"pcd_no_hypo\", \n",
    "                 file_format=\"loom\")"
   ]
  },
  {
   "cell_type": "code",
   "execution_count": 4,
   "id": "9f8d81a7-edfb-48e1-ac4e-b4d19a9584a9",
   "metadata": {
    "tags": []
   },
   "outputs": [
    {
     "name": "stdout",
     "output_type": "stream",
     "text": [
      "Tokenizing /root/autodl-tmp/class4_data/pcd_obj.loom\n",
      "/root/autodl-tmp/class4_data/pcd_obj.loom has no column attribute 'filter_pass'; tokenizing all cells.\n",
      "Creating dataset.\n"
     ]
    },
    {
     "data": {
      "application/vnd.jupyter.widget-view+json": {
       "model_id": "22d339b8d55c460ea715d47d8c1ac5ab",
       "version_major": 2,
       "version_minor": 0
      },
      "text/plain": [
       "Map (num_proc=6):   0%|          | 0/42549 [00:00<?, ? examples/s]"
      ]
     },
     "metadata": {},
     "output_type": "display_data"
    },
    {
     "data": {
      "application/vnd.jupyter.widget-view+json": {
       "model_id": "b53928d34f38429db3f081e5a94c28cc",
       "version_major": 2,
       "version_minor": 0
      },
      "text/plain": [
       "Saving the dataset (0/1 shards):   0%|          | 0/42549 [00:00<?, ? examples/s]"
      ]
     },
     "metadata": {},
     "output_type": "display_data"
    }
   ],
   "source": [
    "tk = TranscriptomeTokenizer({\"cell_state\": \"cell_state\", \"individual\":\"individual\",\n",
    "                            \"cell_state_hypo\": \"cell_state_hypo\", \"cell_state_pcd\":\"cell_state_pcd\",\n",
    "                            \"train_test\":\"train_test\"}, nproc=6)\n",
    "tk.tokenize_data(\"/root/autodl-tmp/class4_data/\", \n",
    "                 \"/root/autodl-tmp/class4_data/\", \n",
    "                 \"pcd_class4\", \n",
    "                 file_format=\"loom\")"
   ]
  },
  {
   "cell_type": "code",
   "execution_count": 6,
   "id": "a94fd540-5922-4f42-8794-c1ef03e71bf4",
   "metadata": {
    "tags": []
   },
   "outputs": [
    {
     "name": "stdout",
     "output_type": "stream",
     "text": [
      "Tokenizing /root/autodl-tmp/pcd_dataset2/pcd_obj2.loom\n",
      "/root/autodl-tmp/pcd_dataset2/pcd_obj2.loom has no column attribute 'filter_pass'; tokenizing all cells.\n",
      "Creating dataset.\n"
     ]
    },
    {
     "data": {
      "application/vnd.jupyter.widget-view+json": {
       "model_id": "b5a40a0180134c8a8eddf03c4a5d7168",
       "version_major": 2,
       "version_minor": 0
      },
      "text/plain": [
       "Map (num_proc=6):   0%|          | 0/42549 [00:00<?, ? examples/s]"
      ]
     },
     "metadata": {},
     "output_type": "display_data"
    },
    {
     "data": {
      "application/vnd.jupyter.widget-view+json": {
       "model_id": "7b9a8252600f4a45b4fb74cc0b0dea3b",
       "version_major": 2,
       "version_minor": 0
      },
      "text/plain": [
       "Saving the dataset (0/1 shards):   0%|          | 0/42549 [00:00<?, ? examples/s]"
      ]
     },
     "metadata": {},
     "output_type": "display_data"
    }
   ],
   "source": [
    "tk = TranscriptomeTokenizer({\"cell_state\": \"cell_state\", \"individual\":\"individual\",\n",
    "                            \"cell_state_hypo\": \"cell_state_hypo\", \"cell_state_pcd\":\"cell_state_pcd\"}, \n",
    "                            nproc=6)\n",
    "tk.tokenize_data(\"/root/autodl-tmp/pcd_dataset2/\", \n",
    "                 \"/root/autodl-tmp/pcd_dataset2/\", \n",
    "                 \"pcd_dt2\", \n",
    "                 file_format=\"loom\")"
   ]
  }
 ],
 "metadata": {
  "kernelspec": {
   "display_name": "geneformer",
   "language": "python",
   "name": "geneformer"
  },
  "language_info": {
   "codemirror_mode": {
    "name": "ipython",
    "version": 3
   },
   "file_extension": ".py",
   "mimetype": "text/x-python",
   "name": "python",
   "nbconvert_exporter": "python",
   "pygments_lexer": "ipython3",
   "version": "3.10.13"
  }
 },
 "nbformat": 4,
 "nbformat_minor": 5
}
