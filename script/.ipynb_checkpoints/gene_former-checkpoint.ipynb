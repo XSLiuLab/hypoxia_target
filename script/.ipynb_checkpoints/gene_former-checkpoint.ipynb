{
 "cells": [
  {
   "cell_type": "code",
   "execution_count": 1,
   "id": "0c2004d3-a43b-4391-bc4f-5f0bda67c361",
   "metadata": {
    "tags": []
   },
   "outputs": [],
   "source": [
    "import datetime\n",
    "from geneformer import Classifier\n",
    "\n",
    "current_date = datetime.datetime.now()\n",
    "datestamp = f\"{str(current_date.year)[-2:]}{current_date.month:02d}{current_date.day:02d}{current_date.hour:02d}{current_date.minute:02d}{current_date.second:02d}\"\n",
    "datestamp_min = f\"{str(current_date.year)[-2:]}{current_date.month:02d}{current_date.day:02d}\"\n",
    "\n",
    "output_prefix = \"pcd_classifier\"\n",
    "output_dir = f\"/root/autodl-tmp/pcd_model/{datestamp}\"\n",
    "!mkdir $output_dir"
   ]
  },
  {
   "cell_type": "code",
   "execution_count": 2,
   "id": "ffceb3b8-4b37-4776-bcaa-5158e67a66b9",
   "metadata": {
    "tags": []
   },
   "outputs": [
    {
     "data": {
      "text/plain": [
       "'/root/autodl-tmp/pcd_model/240331090504'"
      ]
     },
     "execution_count": 2,
     "metadata": {},
     "output_type": "execute_result"
    }
   ],
   "source": [
    "output_dir"
   ]
  },
  {
   "cell_type": "code",
   "execution_count": 7,
   "id": "7aad1a23-6e4a-4795-8f70-55a712ddeedd",
   "metadata": {
    "tags": []
   },
   "outputs": [],
   "source": [
    "training_args = {\n",
    "    \"num_train_epochs\": 1,\n",
    "    \"learning_rate\": 3.152009e-04,\n",
    "    \"lr_scheduler_type\": \"cosine\",\n",
    "    \"warmup_steps\": 635.0144,\n",
    "    \"weight_decay\": 0.278759854,\n",
    "    \"per_device_train_batch_size\": 24,\n",
    "    \"seed\": 57,\n",
    "}\n",
    "cc = Classifier(classifier=\"cell\",\n",
    "                cell_state_dict = {\"state_key\": \"cell_state_pcd\", \"states\": [\"pcd\", \"no_pcd\"]},\n",
    "                training_args=training_args,\n",
    "                max_ncells=None,\n",
    "                freeze_layers = 2,\n",
    "                num_crossval_splits = 1,\n",
    "                forward_batch_size=200,\n",
    "                nproc=6)"
   ]
  },
  {
   "cell_type": "code",
   "execution_count": 8,
   "id": "4340dfad-ff41-4f8a-83d7-0567fbab0835",
   "metadata": {
    "tags": []
   },
   "outputs": [
    {
     "data": {
      "text/plain": [
       "\u001b[0;31mInit signature:\u001b[0m\n",
       "\u001b[0mClassifier\u001b[0m\u001b[0;34m(\u001b[0m\u001b[0;34m\u001b[0m\n",
       "\u001b[0;34m\u001b[0m    \u001b[0mclassifier\u001b[0m\u001b[0;34m=\u001b[0m\u001b[0;32mNone\u001b[0m\u001b[0;34m,\u001b[0m\u001b[0;34m\u001b[0m\n",
       "\u001b[0;34m\u001b[0m    \u001b[0mcell_state_dict\u001b[0m\u001b[0;34m=\u001b[0m\u001b[0;32mNone\u001b[0m\u001b[0;34m,\u001b[0m\u001b[0;34m\u001b[0m\n",
       "\u001b[0;34m\u001b[0m    \u001b[0mgene_class_dict\u001b[0m\u001b[0;34m=\u001b[0m\u001b[0;32mNone\u001b[0m\u001b[0;34m,\u001b[0m\u001b[0;34m\u001b[0m\n",
       "\u001b[0;34m\u001b[0m    \u001b[0mfilter_data\u001b[0m\u001b[0;34m=\u001b[0m\u001b[0;32mNone\u001b[0m\u001b[0;34m,\u001b[0m\u001b[0;34m\u001b[0m\n",
       "\u001b[0;34m\u001b[0m    \u001b[0mrare_threshold\u001b[0m\u001b[0;34m=\u001b[0m\u001b[0;36m0\u001b[0m\u001b[0;34m,\u001b[0m\u001b[0;34m\u001b[0m\n",
       "\u001b[0;34m\u001b[0m    \u001b[0mmax_ncells\u001b[0m\u001b[0;34m=\u001b[0m\u001b[0;32mNone\u001b[0m\u001b[0;34m,\u001b[0m\u001b[0;34m\u001b[0m\n",
       "\u001b[0;34m\u001b[0m    \u001b[0mmax_ncells_per_class\u001b[0m\u001b[0;34m=\u001b[0m\u001b[0;32mNone\u001b[0m\u001b[0;34m,\u001b[0m\u001b[0;34m\u001b[0m\n",
       "\u001b[0;34m\u001b[0m    \u001b[0mtraining_args\u001b[0m\u001b[0;34m=\u001b[0m\u001b[0;32mNone\u001b[0m\u001b[0;34m,\u001b[0m\u001b[0;34m\u001b[0m\n",
       "\u001b[0;34m\u001b[0m    \u001b[0mfreeze_layers\u001b[0m\u001b[0;34m=\u001b[0m\u001b[0;36m0\u001b[0m\u001b[0;34m,\u001b[0m\u001b[0;34m\u001b[0m\n",
       "\u001b[0;34m\u001b[0m    \u001b[0mnum_crossval_splits\u001b[0m\u001b[0;34m=\u001b[0m\u001b[0;36m1\u001b[0m\u001b[0;34m,\u001b[0m\u001b[0;34m\u001b[0m\n",
       "\u001b[0;34m\u001b[0m    \u001b[0meval_size\u001b[0m\u001b[0;34m=\u001b[0m\u001b[0;36m0.2\u001b[0m\u001b[0;34m,\u001b[0m\u001b[0;34m\u001b[0m\n",
       "\u001b[0;34m\u001b[0m    \u001b[0mstratify_splits_col\u001b[0m\u001b[0;34m=\u001b[0m\u001b[0;32mNone\u001b[0m\u001b[0;34m,\u001b[0m\u001b[0;34m\u001b[0m\n",
       "\u001b[0;34m\u001b[0m    \u001b[0mno_eval\u001b[0m\u001b[0;34m=\u001b[0m\u001b[0;32mFalse\u001b[0m\u001b[0;34m,\u001b[0m\u001b[0;34m\u001b[0m\n",
       "\u001b[0;34m\u001b[0m    \u001b[0mforward_batch_size\u001b[0m\u001b[0;34m=\u001b[0m\u001b[0;36m100\u001b[0m\u001b[0;34m,\u001b[0m\u001b[0;34m\u001b[0m\n",
       "\u001b[0;34m\u001b[0m    \u001b[0mnproc\u001b[0m\u001b[0;34m=\u001b[0m\u001b[0;36m4\u001b[0m\u001b[0;34m,\u001b[0m\u001b[0;34m\u001b[0m\n",
       "\u001b[0;34m\u001b[0m\u001b[0;34m)\u001b[0m\u001b[0;34m\u001b[0m\u001b[0;34m\u001b[0m\u001b[0m\n",
       "\u001b[0;31mDocstring:\u001b[0m      <no docstring>\n",
       "\u001b[0;31mInit docstring:\u001b[0m\n",
       "Initialize Geneformer classifier.\n",
       "\n",
       "**Parameters:**\n",
       "\n",
       "classifier : {\"cell\", \"gene\"}\n",
       "    | Whether to fine-tune a cell state or gene classifier.\n",
       "cell_state_dict : None, dict\n",
       "    | Cell states to fine-tune model to distinguish.\n",
       "    | Two-item dictionary with keys: state_key and states\n",
       "    | state_key: key specifying name of column in .dataset that defines the states to model\n",
       "    | states: list of values in the state_key column that specifies the states to model\n",
       "    | Alternatively, instead of a list of states, can specify \"all\" to use all states in that state key from input data.\n",
       "    | Of note, if using \"all\", states will be defined after data is filtered.\n",
       "    | Must have at least 2 states to model.\n",
       "    | For example: {\"state_key\": \"disease\",\n",
       "    |               \"states\": [\"nf\", \"hcm\", \"dcm\"]}\n",
       "    |               or\n",
       "    |               {\"state_key\": \"disease\",\n",
       "    |               \"states\": \"all\"}\n",
       "gene_class_dict : None, dict\n",
       "    | Gene classes to fine-tune model to distinguish.\n",
       "    | Dictionary in format: {Gene_label_A: list(geneA1, geneA2, ...),\n",
       "    |                        Gene_label_B: list(geneB1, geneB2, ...)}\n",
       "    | Gene values should be Ensembl IDs.\n",
       "filter_data : None, dict\n",
       "    | Default is to fine-tune with all input data.\n",
       "    | Otherwise, dictionary specifying .dataset column name and list of values to filter by.\n",
       "rare_threshold : float\n",
       "    | Threshold below which rare cell states should be removed.\n",
       "    | For example, setting to 0.05 will remove cell states representing\n",
       "    | < 5% of the total cells from the cell state classifier's possible classes.\n",
       "max_ncells : None, int\n",
       "    | Maximum number of cells to use for fine-tuning.\n",
       "    | Default is to fine-tune with all input data.\n",
       "max_ncells_per_class : None, int\n",
       "    | Maximum number of cells per cell class to use for fine-tuning.\n",
       "    | Of note, will be applied after max_ncells above.\n",
       "    | (Only valid for cell classification.)\n",
       "training_args : None, dict\n",
       "    | Training arguments for fine-tuning.\n",
       "    | If None, defaults will be inferred for 6 layer Geneformer.\n",
       "    | Otherwise, will use the Hugging Face defaults:\n",
       "    | https://huggingface.co/docs/transformers/main_classes/trainer#transformers.TrainingArguments\n",
       "    | Note: Hyperparameter tuning is highly recommended, rather than using defaults.\n",
       "freeze_layers : int\n",
       "    | Number of layers to freeze from fine-tuning.\n",
       "    | 0: no layers will be frozen; 2: first two layers will be frozen; etc.\n",
       "num_crossval_splits : {0, 1, 5}\n",
       "    | 0: train on all data without splitting\n",
       "    | 1: split data into train and eval sets by designated eval_size\n",
       "    | 5: split data into 5 folds of train and eval sets by designated eval_size\n",
       "eval_size : None, float\n",
       "    | Proportion of data to hold out for evaluation (e.g. 0.2 if intending 80:20 train/eval split)\n",
       "stratify_splits_col : None, str\n",
       "    | Name of column in .dataset to be used for stratified splitting.\n",
       "    | Proportion of each class in this column will be the same in the splits as in the original dataset.\n",
       "no_eval : bool\n",
       "    | If True, will skip eval step and use all data for training.\n",
       "    | Otherwise, will perform eval during training.\n",
       "forward_batch_size : int\n",
       "    | Batch size for forward pass (for evaluation, not training).\n",
       "nproc : int\n",
       "    | Number of CPU processes to use.\n",
       "\u001b[0;31mFile:\u001b[0m           ~/miniconda3/envs/geneformer/lib/python3.10/site-packages/geneformer/classifier.py\n",
       "\u001b[0;31mType:\u001b[0m           type\n",
       "\u001b[0;31mSubclasses:\u001b[0m     "
      ]
     },
     "metadata": {},
     "output_type": "display_data"
    }
   ],
   "source": [
    "?Classifier"
   ]
  },
  {
   "cell_type": "code",
   "execution_count": 3,
   "id": "b3ae7173-6966-4543-a2f5-a44d83da5a69",
   "metadata": {
    "tags": []
   },
   "outputs": [],
   "source": [
    "# import pickle\n",
    "# with open(\"train_id\", \"rb\") as fp:  \n",
    "#     train_ids = pickle.load(fp)\n",
    "# with open(\"test_id\", \"rb\") as fp:  \n",
    "#     eval_ids = pickle.load(fp)"
   ]
  },
  {
   "cell_type": "code",
   "execution_count": 8,
   "id": "8a8df92b-8576-483d-a621-21fff89a8978",
   "metadata": {
    "tags": []
   },
   "outputs": [
    {
     "data": {
      "application/vnd.jupyter.widget-view+json": {
       "model_id": "78a7ae48c955470095c070bb671d3e17",
       "version_major": 2,
       "version_minor": 0
      },
      "text/plain": [
       "Saving the dataset (0/1 shards):   0%|          | 0/42549 [00:00<?, ? examples/s]"
      ]
     },
     "metadata": {},
     "output_type": "display_data"
    }
   ],
   "source": [
    "cc.prepare_data(input_data_file=\"/root/autodl-tmp/pcd_dataset/pcd_token.dataset/\",\n",
    "                output_directory=output_dir,\n",
    "                output_prefix=output_prefix)"
   ]
  },
  {
   "cell_type": "code",
   "execution_count": 9,
   "id": "31b84038-eb67-451a-83a4-e3cdb9990dac",
   "metadata": {
    "tags": []
   },
   "outputs": [
    {
     "name": "stderr",
     "output_type": "stream",
     "text": [
      "mkdir: cannot create directory ‘/root/autodl-tmp/pcd_model/240331090504/240331_geneformer_cellClassifier_pcd_classifier/’: File exists\n"
     ]
    },
    {
     "data": {
      "application/vnd.jupyter.widget-view+json": {
       "model_id": "2fdae8003d634d808d6d4f7206c11987",
       "version_major": 2,
       "version_minor": 0
      },
      "text/plain": [
       "  0%|          | 0/1 [00:00<?, ?it/s]"
      ]
     },
     "metadata": {},
     "output_type": "display_data"
    },
    {
     "name": "stderr",
     "output_type": "stream",
     "text": [
      "mkdir: cannot create directory ‘/root/autodl-tmp/pcd_model/240331090504/240331_geneformer_cellClassifier_pcd_classifier/ksplit1’: File exists\n",
      "Some weights of BertForSequenceClassification were not initialized from the model checkpoint at /root/autodl-tmp/Geneformer/ and are newly initialized: ['bert.pooler.dense.bias', 'bert.pooler.dense.weight', 'classifier.bias', 'classifier.weight']\n",
      "You should probably TRAIN this model on a down-stream task to be able to use it for predictions and inference.\n",
      "/root/miniconda3/envs/geneformer/lib/python3.10/site-packages/accelerate/accelerator.py:432: FutureWarning: Passing the following arguments to `Accelerator` is deprecated and will be removed in version 1.0 of Accelerate: dict_keys(['dispatch_batches', 'split_batches', 'even_batches', 'use_seedable_sampler']). Please pass an `accelerate.DataLoaderConfiguration` instead: \n",
      "dataloader_config = DataLoaderConfiguration(dispatch_batches=None, split_batches=False, even_batches=True, use_seedable_sampler=True)\n",
      "  warnings.warn(\n",
      "Detected kernel version 5.4.0, which is below the recommended minimum of 5.5.0; this can cause the process to hang. It is recommended to upgrade the kernel to the minimum version or higher.\n"
     ]
    },
    {
     "name": "stdout",
     "output_type": "stream",
     "text": [
      "****** Validation split: 1/1 ******\n",
      "\n"
     ]
    },
    {
     "name": "stderr",
     "output_type": "stream",
     "text": [
      "/root/miniconda3/envs/geneformer/lib/python3.10/site-packages/geneformer/collator_for_classification.py:581: UserWarning: To copy construct from a tensor, it is recommended to use sourceTensor.clone().detach() or sourceTensor.clone().detach().requires_grad_(True), rather than torch.tensor(sourceTensor).\n",
      "  batch = {k: torch.tensor(v, dtype=torch.int64) for k, v in batch.items()}\n"
     ]
    },
    {
     "data": {
      "text/html": [
       "\n",
       "    <div>\n",
       "      \n",
       "      <progress value='1419' max='1419' style='width:300px; height:20px; vertical-align: middle;'></progress>\n",
       "      [1419/1419 13:50, Epoch 1/1]\n",
       "    </div>\n",
       "    <table border=\"1\" class=\"dataframe\">\n",
       "  <thead>\n",
       " <tr style=\"text-align: left;\">\n",
       "      <th>Epoch</th>\n",
       "      <th>Training Loss</th>\n",
       "      <th>Validation Loss</th>\n",
       "      <th>Accuracy</th>\n",
       "      <th>Macro F1</th>\n",
       "    </tr>\n",
       "  </thead>\n",
       "  <tbody>\n",
       "    <tr>\n",
       "      <td>1</td>\n",
       "      <td>0.104500</td>\n",
       "      <td>0.106828</td>\n",
       "      <td>0.957462</td>\n",
       "      <td>0.956064</td>\n",
       "    </tr>\n",
       "  </tbody>\n",
       "</table><p>"
      ],
      "text/plain": [
       "<IPython.core.display.HTML object>"
      ]
     },
     "metadata": {},
     "output_type": "display_data"
    },
    {
     "data": {
      "application/vnd.jupyter.widget-view+json": {
       "model_id": "49fc0491d35d458ea9687c67226bfded",
       "version_major": 2,
       "version_minor": 0
      },
      "text/plain": [
       "  0%|          | 0/43 [00:00<?, ?it/s]"
      ]
     },
     "metadata": {},
     "output_type": "display_data"
    }
   ],
   "source": [
    "# train_valid_id_split_dict  = {\"attr_key\": \"train_test\",\n",
    "#                             \"train\": [\"train\"],\n",
    "#                             \"eval\": [\"test\"]}\n",
    "all_metrics = cc.validate(model_directory=\"/root/autodl-tmp/Geneformer/\",\n",
    "                          prepared_input_data_file=f\"{output_dir}/{output_prefix}_labeled.dataset\",\n",
    "                          id_class_dict_file=f\"{output_dir}/{output_prefix}_id_class_dict.pkl\",\n",
    "                          output_directory=output_dir,\n",
    "                          output_prefix=output_prefix)"
   ]
  },
  {
   "cell_type": "code",
   "execution_count": 6,
   "id": "1121c590-5e90-45e6-86c1-3525e826ca5a",
   "metadata": {
    "tags": []
   },
   "outputs": [
    {
     "data": {
      "text/plain": [
       "\u001b[0;31mSignature:\u001b[0m\n",
       "\u001b[0mcc\u001b[0m\u001b[0;34m.\u001b[0m\u001b[0mvalidate\u001b[0m\u001b[0;34m(\u001b[0m\u001b[0;34m\u001b[0m\n",
       "\u001b[0;34m\u001b[0m    \u001b[0mmodel_directory\u001b[0m\u001b[0;34m,\u001b[0m\u001b[0;34m\u001b[0m\n",
       "\u001b[0;34m\u001b[0m    \u001b[0mprepared_input_data_file\u001b[0m\u001b[0;34m,\u001b[0m\u001b[0;34m\u001b[0m\n",
       "\u001b[0;34m\u001b[0m    \u001b[0mid_class_dict_file\u001b[0m\u001b[0;34m,\u001b[0m\u001b[0;34m\u001b[0m\n",
       "\u001b[0;34m\u001b[0m    \u001b[0moutput_directory\u001b[0m\u001b[0;34m,\u001b[0m\u001b[0;34m\u001b[0m\n",
       "\u001b[0;34m\u001b[0m    \u001b[0moutput_prefix\u001b[0m\u001b[0;34m,\u001b[0m\u001b[0;34m\u001b[0m\n",
       "\u001b[0;34m\u001b[0m    \u001b[0msplit_id_dict\u001b[0m\u001b[0;34m=\u001b[0m\u001b[0;32mNone\u001b[0m\u001b[0;34m,\u001b[0m\u001b[0;34m\u001b[0m\n",
       "\u001b[0;34m\u001b[0m    \u001b[0mattr_to_split\u001b[0m\u001b[0;34m=\u001b[0m\u001b[0;32mNone\u001b[0m\u001b[0;34m,\u001b[0m\u001b[0;34m\u001b[0m\n",
       "\u001b[0;34m\u001b[0m    \u001b[0mattr_to_balance\u001b[0m\u001b[0;34m=\u001b[0m\u001b[0;32mNone\u001b[0m\u001b[0;34m,\u001b[0m\u001b[0;34m\u001b[0m\n",
       "\u001b[0;34m\u001b[0m    \u001b[0mmax_trials\u001b[0m\u001b[0;34m=\u001b[0m\u001b[0;36m100\u001b[0m\u001b[0;34m,\u001b[0m\u001b[0;34m\u001b[0m\n",
       "\u001b[0;34m\u001b[0m    \u001b[0mpval_threshold\u001b[0m\u001b[0;34m=\u001b[0m\u001b[0;36m0.1\u001b[0m\u001b[0;34m,\u001b[0m\u001b[0;34m\u001b[0m\n",
       "\u001b[0;34m\u001b[0m    \u001b[0msave_eval_output\u001b[0m\u001b[0;34m=\u001b[0m\u001b[0;32mTrue\u001b[0m\u001b[0;34m,\u001b[0m\u001b[0;34m\u001b[0m\n",
       "\u001b[0;34m\u001b[0m    \u001b[0mpredict_eval\u001b[0m\u001b[0;34m=\u001b[0m\u001b[0;32mTrue\u001b[0m\u001b[0;34m,\u001b[0m\u001b[0;34m\u001b[0m\n",
       "\u001b[0;34m\u001b[0m    \u001b[0mpredict_trainer\u001b[0m\u001b[0;34m=\u001b[0m\u001b[0;32mFalse\u001b[0m\u001b[0;34m,\u001b[0m\u001b[0;34m\u001b[0m\n",
       "\u001b[0;34m\u001b[0m\u001b[0;34m)\u001b[0m\u001b[0;34m\u001b[0m\u001b[0;34m\u001b[0m\u001b[0m\n",
       "\u001b[0;31mDocstring:\u001b[0m\n",
       "(Cross-)validate cell state or gene classifier.\n",
       "\n",
       "**Parameters**\n",
       "\n",
       "model_directory : Path\n",
       "    | Path to directory containing model\n",
       "prepared_input_data_file : Path\n",
       "    | Path to directory containing _labeled.dataset previously prepared by Classifier.prepare_data\n",
       "id_class_dict_file : Path\n",
       "    | Path to _id_class_dict.pkl previously prepared by Classifier.prepare_data\n",
       "    | (dictionary of format: numerical IDs: class_labels)\n",
       "output_directory : Path\n",
       "    | Path to directory where model and eval data will be saved\n",
       "output_prefix : str\n",
       "    | Prefix for output files\n",
       "split_id_dict : None, dict\n",
       "    | Dictionary of IDs for train and eval splits\n",
       "    | Three-item dictionary with keys: attr_key, train, eval\n",
       "    | attr_key: key specifying name of column in .dataset that contains the IDs for the data splits\n",
       "    | train: list of IDs in the attr_key column to include in the train split\n",
       "    | eval: list of IDs in the attr_key column to include in the eval split\n",
       "    | For example: {\"attr_key\": \"individual\",\n",
       "    |               \"train\": [\"patient1\", \"patient2\", \"patient3\", \"patient4\"],\n",
       "    |               \"eval\": [\"patient5\", \"patient6\"]}\n",
       "    | Note: only available for CellClassifiers with 1-fold split (self.classifier=\"cell\"; self.num_crossval_splits=1)\n",
       "attr_to_split : None, str\n",
       "    | Key for attribute on which to split data while balancing potential confounders\n",
       "    | e.g. \"patient_id\" for splitting by patient while balancing other characteristics\n",
       "    | Note: only available for CellClassifiers with 1-fold split (self.classifier=\"cell\"; self.num_crossval_splits=1)\n",
       "attr_to_balance : None, list\n",
       "    | List of attribute keys on which to balance data while splitting on attr_to_split\n",
       "    | e.g. [\"age\", \"sex\"] for balancing these characteristics while splitting by patient\n",
       "max_trials : None, int\n",
       "    | Maximum number of trials of random splitting to try to achieve balanced other attribute\n",
       "    | If no split is found without significant (p < pval_threshold) differences in other attributes, will select best\n",
       "pval_threshold : None, float\n",
       "    | P-value threshold to use for attribute balancing across splits\n",
       "    | E.g. if set to 0.1, will accept trial if p >= 0.1 for all attributes in attr_to_balance\n",
       "save_eval_output : bool\n",
       "    | Whether to save cross-fold eval output\n",
       "    | Saves as pickle file of dictionary of eval metrics\n",
       "predict_eval : bool\n",
       "    | Whether or not to save eval predictions\n",
       "    | Saves as a pickle file of self.evaluate predictions\n",
       "predict_trainer : bool\n",
       "    | Whether or not to save eval predictions from trainer\n",
       "    | Saves as a pickle file of trainer predictions\n",
       "\u001b[0;31mFile:\u001b[0m      ~/miniconda3/envs/geneformer/lib/python3.10/site-packages/geneformer/classifier.py\n",
       "\u001b[0;31mType:\u001b[0m      method"
      ]
     },
     "metadata": {},
     "output_type": "display_data"
    }
   ],
   "source": [
    "?cc.validate"
   ]
  },
  {
   "cell_type": "code",
   "execution_count": 11,
   "id": "91675828-c9be-4405-a881-7165bf689157",
   "metadata": {
    "tags": []
   },
   "outputs": [
    {
     "name": "stderr",
     "output_type": "stream",
     "text": [
      "Hyperparameter tuning is highly recommended for optimal results. No training_args provided; using default hyperparameters.\n"
     ]
    },
    {
     "data": {
      "application/vnd.jupyter.widget-view+json": {
       "model_id": "2b9e8d3c94c049ad89af6c2a1cc9b62f",
       "version_major": 2,
       "version_minor": 0
      },
      "text/plain": [
       "Filter (num_proc=6):   0%|          | 0/18146 [00:00<?, ? examples/s]"
      ]
     },
     "metadata": {},
     "output_type": "display_data"
    },
    {
     "data": {
      "application/vnd.jupyter.widget-view+json": {
       "model_id": "9161451629764a0fa290ee69f1639a50",
       "version_major": 2,
       "version_minor": 0
      },
      "text/plain": [
       "Map (num_proc=6):   0%|          | 0/18146 [00:00<?, ? examples/s]"
      ]
     },
     "metadata": {},
     "output_type": "display_data"
    },
    {
     "data": {
      "application/vnd.jupyter.widget-view+json": {
       "model_id": "6e706292276c4067ad2feb5cbe75e29c",
       "version_major": 2,
       "version_minor": 0
      },
      "text/plain": [
       "Saving the dataset (0/1 shards):   0%|          | 0/18146 [00:00<?, ? examples/s]"
      ]
     },
     "metadata": {},
     "output_type": "display_data"
    }
   ],
   "source": [
    "###eval\n",
    "from geneformer import Classifier\n",
    "cc = Classifier(classifier=\"cell\",\n",
    "                cell_state_dict = {\"state_key\": \"cell_state\", \"states\": [\"pcd\",\"no_pcd\"]},\n",
    "                forward_batch_size=64,\n",
    "                nproc=6)\n",
    "cc.prepare_data(input_data_file=\"/root/autodl-tmp/pcd_dataset/test/pcd_token.dataset/\",\n",
    "                output_directory=\"/root/autodl-tmp/pcd_dataset/test/\",\n",
    "                output_prefix=\"model_test\")"
   ]
  },
  {
   "cell_type": "code",
   "execution_count": 12,
   "id": "a0ee664b-61f2-4da7-9f81-5e01776c36ce",
   "metadata": {
    "tags": []
   },
   "outputs": [
    {
     "data": {
      "text/plain": [
       "{0: 'pcd', 1: 'no_pcd'}"
      ]
     },
     "execution_count": 12,
     "metadata": {},
     "output_type": "execute_result"
    }
   ],
   "source": [
    "import pickle\n",
    "with open('/root/autodl-tmp/pcd_dataset/test/model_test_id_class_dict.pkl', 'rb') as f:\n",
    "    data = pickle.load(f)\n",
    "data"
   ]
  },
  {
   "cell_type": "code",
   "execution_count": 13,
   "id": "37bf95fb-e97e-4efc-9852-a2a313b3ef0e",
   "metadata": {
    "tags": []
   },
   "outputs": [
    {
     "data": {
      "text/plain": [
       "{0: 'pcd', 1: 'no_pcd'}"
      ]
     },
     "execution_count": 13,
     "metadata": {},
     "output_type": "execute_result"
    }
   ],
   "source": [
    "import pickle\n",
    "with open('/root/autodl-tmp/pcd_model/240331090504/pcd_classifier_id_class_dict.pkl', 'rb') as f:\n",
    "    data = pickle.load(f)\n",
    "data"
   ]
  },
  {
   "cell_type": "code",
   "execution_count": 14,
   "id": "101600ac-e0e6-433a-8848-41d8377117a0",
   "metadata": {
    "tags": []
   },
   "outputs": [
    {
     "data": {
      "application/vnd.jupyter.widget-view+json": {
       "model_id": "a093a7ae6a3a416093bafe5ea5c93499",
       "version_major": 2,
       "version_minor": 0
      },
      "text/plain": [
       "  0%|          | 0/284 [00:00<?, ?it/s]"
      ]
     },
     "metadata": {},
     "output_type": "display_data"
    }
   ],
   "source": [
    "##\n",
    "all_metrics_test = cc.evaluate_saved_model(\n",
    "        model_directory=\"/root/autodl-tmp/pcd_model/240331090504/240331_geneformer_cellClassifier_pcd_classifier/ksplit1/\",\n",
    "        id_class_dict_file=\"/root/autodl-tmp/pcd_dataset/test/model_test_id_class_dict.pkl\",\n",
    "        test_data_file=\"/root/autodl-tmp/pcd_dataset/test/model_test_labeled.dataset/\",\n",
    "        output_directory=\"/root/autodl-tmp/pcd_dataset/test/res/\",\n",
    "        output_prefix=\"pcd_test\",\n",
    "    )"
   ]
  },
  {
   "cell_type": "code",
   "execution_count": 15,
   "id": "1cea64d2-fa57-4537-a40b-2875f10fe5f9",
   "metadata": {
    "tags": []
   },
   "outputs": [
    {
     "data": {
      "text/plain": [
       "<Figure size 1000x1000 with 0 Axes>"
      ]
     },
     "metadata": {},
     "output_type": "display_data"
    },
    {
     "data": {
      "image/png": "[encoded data removed]",
      "text/plain": [
       "<Figure size 640x480 with 2 Axes>"
      ]
     },
     "metadata": {},
     "output_type": "display_data"
    }
   ],
   "source": [
    "cc.plot_conf_mat(\n",
    "        conf_mat_dict={\"Geneformer\": all_metrics_test[\"conf_matrix\"]},\n",
    "        output_directory=\"/root/autodl-tmp/pcd_dataset/test/\",\n",
    "        output_prefix=\"pcd_test\",\n",
    "        custom_class_order=[\"pcd\",\"no_pcd\"],\n",
    ")"
   ]
  },
  {
   "cell_type": "code",
   "execution_count": 16,
   "id": "ce5df616-d624-495c-ac25-9318983db3a1",
   "metadata": {
    "tags": []
   },
   "outputs": [
    {
     "data": {
      "text/plain": [
       "<Figure size 1500x1500 with 0 Axes>"
      ]
     },
     "metadata": {},
     "output_type": "display_data"
    },
    {
     "data": {
      "image/png": "[encoded data removed]",
      "text/plain": [
       "<Figure size 1000x1000 with 6 Axes>"
      ]
     },
     "metadata": {},
     "output_type": "display_data"
    }
   ],
   "source": [
    "cc.plot_predictions(\n",
    "    predictions_file=\"/root/autodl-tmp/pcd_dataset/test/res/pcd_test_pred_dict.pkl\",\n",
    "    id_class_dict_file=\"/root/autodl-tmp/pcd_dataset/test/model_test_id_class_dict.pkl\",\n",
    "    title=\"PCD\",\n",
    "    output_directory=\"/root/autodl-tmp/pcd_dataset/test/res/\",\n",
    "    output_prefix=\"pcd_test\",\n",
    "    custom_class_order=[\"pcd\",\"no_pcd\"],\n",
    ")"
   ]
  },
  {
   "cell_type": "code",
   "execution_count": 17,
   "id": "e308825e-cefe-4551-b525-076a6c227c44",
   "metadata": {
    "tags": []
   },
   "outputs": [
    {
     "data": {
      "text/plain": [
       "{'conf_matrix':          pcd  no_pcd\n",
       " pcd     7755    1058\n",
       " no_pcd    98    9235,\n",
       " 'macro_f1': 0.9358678841192168,\n",
       " 'acc': 0.9362945001653257,\n",
       " 'all_roc_metrics': {'mean_tpr': array([0.        , 0.864138  , 0.91031823, 0.93314047, 0.95103397,\n",
       "         0.96110575, 0.96828458, 0.97417765, 0.97771349, 0.98114218,\n",
       "         0.98478517, 0.98735669, 0.98960677, 0.99217829, 0.99324976,\n",
       "         0.99399979, 0.99485696, 0.99528555, 0.99582128, 0.99603557,\n",
       "         0.99624987, 0.9967856 , 0.99710704, 0.99753563, 0.99774992,\n",
       "         0.99796421, 0.99817851, 0.99817851, 0.9983928 , 0.99849995,\n",
       "         0.99882139, 0.99892853, 0.99892853, 0.99914283, 0.99924997,\n",
       "         0.99924997, 0.99957141, 0.99967856, 0.99978571, 0.99989285,\n",
       "         0.99989285, 0.99989285, 0.99989285, 1.        , 1.        ,\n",
       "         1.        , 1.        , 1.        , 1.        , 1.        ,\n",
       "         1.        , 1.        , 1.        , 1.        , 1.        ,\n",
       "         1.        , 1.        , 1.        , 1.        , 1.        ,\n",
       "         1.        , 1.        , 1.        , 1.        , 1.        ,\n",
       "         1.        , 1.        , 1.        , 1.        , 1.        ,\n",
       "         1.        , 1.        , 1.        , 1.        , 1.        ,\n",
       "         1.        , 1.        , 1.        , 1.        , 1.        ,\n",
       "         1.        , 1.        , 1.        , 1.        , 1.        ,\n",
       "         1.        , 1.        , 1.        , 1.        , 1.        ,\n",
       "         1.        , 1.        , 1.        , 1.        , 1.        ,\n",
       "         1.        , 1.        , 1.        , 1.        , 1.        ]),\n",
       "  'mean_fpr': array([0.        , 0.01010101, 0.02020202, 0.03030303, 0.04040404,\n",
       "         0.05050505, 0.06060606, 0.07070707, 0.08080808, 0.09090909,\n",
       "         0.1010101 , 0.11111111, 0.12121212, 0.13131313, 0.14141414,\n",
       "         0.15151515, 0.16161616, 0.17171717, 0.18181818, 0.19191919,\n",
       "         0.2020202 , 0.21212121, 0.22222222, 0.23232323, 0.24242424,\n",
       "         0.25252525, 0.26262626, 0.27272727, 0.28282828, 0.29292929,\n",
       "         0.3030303 , 0.31313131, 0.32323232, 0.33333333, 0.34343434,\n",
       "         0.35353535, 0.36363636, 0.37373737, 0.38383838, 0.39393939,\n",
       "         0.4040404 , 0.41414141, 0.42424242, 0.43434343, 0.44444444,\n",
       "         0.45454545, 0.46464646, 0.47474747, 0.48484848, 0.49494949,\n",
       "         0.50505051, 0.51515152, 0.52525253, 0.53535354, 0.54545455,\n",
       "         0.55555556, 0.56565657, 0.57575758, 0.58585859, 0.5959596 ,\n",
       "         0.60606061, 0.61616162, 0.62626263, 0.63636364, 0.64646465,\n",
       "         0.65656566, 0.66666667, 0.67676768, 0.68686869, 0.6969697 ,\n",
       "         0.70707071, 0.71717172, 0.72727273, 0.73737374, 0.74747475,\n",
       "         0.75757576, 0.76767677, 0.77777778, 0.78787879, 0.7979798 ,\n",
       "         0.80808081, 0.81818182, 0.82828283, 0.83838384, 0.84848485,\n",
       "         0.85858586, 0.86868687, 0.87878788, 0.88888889, 0.8989899 ,\n",
       "         0.90909091, 0.91919192, 0.92929293, 0.93939394, 0.94949495,\n",
       "         0.95959596, 0.96969697, 0.97979798, 0.98989899, 1.        ]),\n",
       "  'all_roc_auc': 0.992639668401378}}"
      ]
     },
     "execution_count": 17,
     "metadata": {},
     "output_type": "execute_result"
    }
   ],
   "source": [
    "all_metrics_test"
   ]
  },
  {
   "cell_type": "code",
   "execution_count": null,
   "id": "0cbaee14-1b42-4e51-b503-962b8300530b",
   "metadata": {
    "tags": []
   },
   "outputs": [],
   "source": [
    "import pickle\n",
    "with open('/root/autodl-tmp/pcd_dataset/test/res/pcd_test_pred_dict.pkl', 'rb') as f:\n",
    "    data = pickle.load(f)\n",
    "data"
   ]
  },
  {
   "cell_type": "code",
   "execution_count": 3,
   "id": "0dae2dd4-bd0e-47ee-ae9b-ec7f6903be0e",
   "metadata": {
    "scrolled": true,
    "tags": []
   },
   "outputs": [],
   "source": [
    "import pandas as pd\n",
    "preds = pd.DataFrame.from_dict(data)"
   ]
  },
  {
   "cell_type": "code",
   "execution_count": 5,
   "id": "161d98a7-b942-4f57-adb4-3fd189e80ef9",
   "metadata": {
    "tags": []
   },
   "outputs": [],
   "source": [
    "preds.to_csv(\"/root/autodl-tmp/pcd_dataset/test/res/preds.csv\")"
   ]
  }
 ],
 "metadata": {
  "kernelspec": {
   "display_name": "geneformer",
   "language": "python",
   "name": "geneformer"
  },
  "language_info": {
   "codemirror_mode": {
    "name": "ipython",
    "version": 3
   },
   "file_extension": ".py",
   "mimetype": "text/x-python",
   "name": "python",
   "nbconvert_exporter": "python",
   "pygments_lexer": "ipython3",
   "version": "3.10.13"
  }
 },
 "nbformat": 4,
 "nbformat_minor": 5
}
