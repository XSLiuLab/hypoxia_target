{
 "cells": [
  {
   "cell_type": "code",
   "execution_count": null,
   "id": "d75deaba-2f50-4b22-98fc-242eceecdf69",
   "metadata": {
    "tags": []
   },
   "outputs": [],
   "source": [
    "from geneformer import InSilicoPerturber\n",
    "from geneformer import InSilicoPerturberStats\n",
    "from geneformer import EmbExtractor"
   ]
  },
  {
   "cell_type": "code",
   "execution_count": null,
   "id": "32c757f3-b1dd-461f-a483-d54dc592964c",
   "metadata": {
    "tags": []
   },
   "outputs": [],
   "source": [
    "# first obtain start, goal, and alt embedding positions\n",
    "# this function was changed to be separate from perturb_data\n",
    "# to avoid repeating calcuations when parallelizing perturb_data\n",
    "cell_states_to_model={\"state_key\": \"cell_state_pcd\", \n",
    "                      \"start_state\": \"no_pcd\", \n",
    "                      \"goal_state\": \"pcd\"}\n",
    "filter_data_dict={\"cell_state_hypo\":[\"hypo\"]}\n",
    "\n",
    "embex = EmbExtractor(model_type=\"CellClassifier\",\n",
    "                     num_classes=2,\n",
    "                     filter_data=filter_data_dict,\n",
    "                     emb_layer=0,\n",
    "                     summary_stat=\"exact_mean\",\n",
    "                     forward_batch_size=24,\n",
    "                     max_ncells = None,\n",
    "                     nproc=6)\n",
    "\n",
    "state_embs_dict = embex.get_state_embs(cell_states_to_model,\n",
    "                                       \"/root/autodl-tmp/pcd_model/240331090504/240331_geneformer_cellClassifier_pcd_classifier/ksplit1/\",\n",
    "                                       \"/root/autodl-tmp/perturbation/per.dataset/\",\n",
    "                                       \"/root/autodl-tmp/perturbation/hypoxia/\",\n",
    "                                       \"pcd_hypo\")"
   ]
  },
  {
   "cell_type": "code",
   "execution_count": null,
   "id": "4a74c0f1-30f5-43fe-9efa-5240f1d7ddd6",
   "metadata": {
    "tags": []
   },
   "outputs": [],
   "source": [
    "isp = InSilicoPerturber(perturb_type=\"delete\",\n",
    "                        perturb_rank_shift=None,\n",
    "                        genes_to_perturb=\"all\",\n",
    "                        combos=0,\n",
    "                        anchor_gene=None,\n",
    "                        model_type=\"CellClassifier\",\n",
    "                        num_classes=2,\n",
    "                        emb_mode=\"cell\",\n",
    "                        cell_emb_style=\"mean_pool\",\n",
    "                        cell_states_to_model=cell_states_to_model,\n",
    "                        state_embs_dict=state_embs_dict,\n",
    "                        filter_data=filter_data_dict,\n",
    "                        emb_layer=0,\n",
    "                        forward_batch_size=64,\n",
    "                        max_ncells = None,\n",
    "                        nproc=6)"
   ]
  },
  {
   "cell_type": "code",
   "execution_count": null,
   "id": "f5575e88-9982-4611-96a8-b8966a727f34",
   "metadata": {
    "scrolled": true,
    "tags": []
   },
   "outputs": [],
   "source": [
    "# outputs intermediate files from in silico perturbation\n",
    "isp.perturb_data(\"/root/autodl-tmp/pcd_model/240331090504/240331_geneformer_cellClassifier_pcd_classifier/ksplit1/\",\n",
    "                 \"/root/autodl-tmp/perturbation/per.dataset/\",\n",
    "                 \"/root/autodl-tmp/perturbation/hypoxia/\",\n",
    "                 \"pcd_hypo\")"
   ]
  },
  {
   "cell_type": "code",
   "execution_count": null,
   "id": "0a56ba47-1002-4f3b-8296-11a653f4a767",
   "metadata": {
    "tags": []
   },
   "outputs": [],
   "source": [
    "ispstats = InSilicoPerturberStats(mode=\"goal_state_shift\",\n",
    "                                  genes_perturbed=\"all\",\n",
    "                                  combos=0,\n",
    "                                  anchor_gene=None,\n",
    "                                  cell_states_to_model=cell_states_to_model)"
   ]
  },
  {
   "cell_type": "code",
   "execution_count": null,
   "id": "ca754aaa-5eaa-4d83-934a-9f99859935ff",
   "metadata": {
    "tags": []
   },
   "outputs": [],
   "source": [
    "# extracts data from intermediate files and processes stats to output in final .csv\n",
    "ispstats.get_stats(\"/root/autodl-tmp/perturbation/hypoxia/\",\n",
    "                   None,\n",
    "                   \"/root/autodl-tmp/perturbation/hypoxia/out/\",\n",
    "                   \"pcd_hypo_res\")"
   ]
  },
  {
   "cell_type": "code",
   "execution_count": null,
   "id": "2de7045a-7f45-4242-8458-ede5871dd47d",
   "metadata": {
    "scrolled": true,
    "tags": []
   },
   "outputs": [],
   "source": [
    "###非缺氧\n",
    "cell_states_to_model={\"state_key\": \"cell_state_pcd\", \n",
    "                      \"start_state\": \"no_pcd\", \n",
    "                      \"goal_state\": \"pcd\"}\n",
    "filter_data_dict={\"cell_state_hypo\":[\"no_hypo\"]}\n",
    "\n",
    "embex = EmbExtractor(model_type=\"CellClassifier\",\n",
    "                     num_classes=2,\n",
    "                     emb_layer=0,\n",
    "                     summary_stat=\"exact_mean\",\n",
    "                     filter_data=filter_data_dict,\n",
    "                     forward_batch_size=24,\n",
    "                     max_ncells = None,\n",
    "                     nproc=6)\n",
    "\n",
    "state_embs_dict = embex.get_state_embs(cell_states_to_model,\n",
    "                                       \"/root/autodl-tmp/pcd_model/240331090504/240331_geneformer_cellClassifier_pcd_classifier/ksplit1/\",\n",
    "                                       \"/root/autodl-tmp/perturbation/per.dataset/\",\n",
    "                                       \"/root/autodl-tmp/perturbation/no_hypoxia/\",\n",
    "                                       \"pcd_no_hypo\")\n",
    "\n",
    "isp = InSilicoPerturber(perturb_type=\"delete\",\n",
    "                        perturb_rank_shift=None,\n",
    "                        genes_to_perturb=\"all\",\n",
    "                        combos=0,\n",
    "                        anchor_gene=None,\n",
    "                        model_type=\"CellClassifier\",\n",
    "                        num_classes=2,\n",
    "                        emb_mode=\"cell\",\n",
    "                        cell_emb_style=\"mean_pool\",\n",
    "                        cell_states_to_model=cell_states_to_model,\n",
    "                        state_embs_dict=state_embs_dict,\n",
    "                        filter_data=filter_data_dict,\n",
    "                        emb_layer=0,\n",
    "                        forward_batch_size=64,\n",
    "                        max_ncells = None,\n",
    "                        nproc=6)\n",
    "\n",
    "isp.perturb_data(\"/root/autodl-tmp/pcd_model/240331090504/240331_geneformer_cellClassifier_pcd_classifier/ksplit1/\",\n",
    "                   \"/root/autodl-tmp/perturbation/per.dataset/\",\n",
    "                   \"/root/autodl-tmp/perturbation/no_hypoxia/\",\n",
    "                   \"pcd_no_hypo\")"
   ]
  },
  {
   "cell_type": "code",
   "execution_count": null,
   "id": "dee8f080-ec68-4465-bdb1-79279f157098",
   "metadata": {
    "tags": []
   },
   "outputs": [],
   "source": [
    "ispstats = InSilicoPerturberStats(mode=\"goal_state_shift\",\n",
    "                                  genes_perturbed=\"all\",\n",
    "                                  combos=0,\n",
    "                                  anchor_gene=None,\n",
    "                                  cell_states_to_model=cell_states_to_model)\n",
    "ispstats.get_stats(\"/root/autodl-tmp/perturbation/no_hypoxia/\",\n",
    "                   None,\n",
    "                   \"/root/autodl-tmp/perturbation/no_hypoxia/out\",\n",
    "                   \"pcd_no_hypo_res\")"
   ]
  },
  {
   "cell_type": "code",
   "execution_count": null,
   "id": "c53cb32f-a9d0-4b28-8e4c-9a0f8385fdbc",
   "metadata": {
    "scrolled": true,
    "tags": []
   },
   "outputs": [],
   "source": [
    "###只判断 non-pcd 到 pcd 的转变\n",
    "cell_states_to_model={\"state_key\": \"cell_state_pcd\", \n",
    "                      \"start_state\": \"no_pcd\", \n",
    "                      \"goal_state\": \"pcd\"}\n",
    "\n",
    "embex = EmbExtractor(model_type=\"CellClassifier\",\n",
    "                     num_classes=2,\n",
    "                     emb_layer=0,\n",
    "                     summary_stat=\"exact_mean\",\n",
    "                     forward_batch_size=24,\n",
    "                     max_ncells = None,\n",
    "                     nproc=6)\n",
    "\n",
    "state_embs_dict = embex.get_state_embs(cell_states_to_model,\n",
    "                                       \"/root/autodl-tmp/pcd_model/240331090504/240331_geneformer_cellClassifier_pcd_classifier/ksplit1/\",\n",
    "                                       \"/root/autodl-tmp/perturbation/per.dataset/\",\n",
    "                                       \"/root/autodl-tmp/perturbation/all_cells/\",\n",
    "                                       \"all_pcd\")\n",
    "\n",
    "isp = InSilicoPerturber(perturb_type=\"delete\",\n",
    "                        perturb_rank_shift=None,\n",
    "                        genes_to_perturb=\"all\",\n",
    "                        combos=0,\n",
    "                        anchor_gene=None,\n",
    "                        model_type=\"CellClassifier\",\n",
    "                        num_classes=2,\n",
    "                        emb_mode=\"cell\",\n",
    "                        cell_emb_style=\"mean_pool\",\n",
    "                        cell_states_to_model=cell_states_to_model,\n",
    "                        state_embs_dict=state_embs_dict,\n",
    "                        emb_layer=0,\n",
    "                        forward_batch_size=64,\n",
    "                        max_ncells = None,\n",
    "                        nproc=6)\n",
    "\n",
    "isp.perturb_data(\"/root/autodl-tmp/pcd_model/240331090504/240331_geneformer_cellClassifier_pcd_classifier/ksplit1/\",\n",
    "                   \"/root/autodl-tmp/perturbation/per.dataset/\",\n",
    "                   \"/root/autodl-tmp/perturbation/all_cells/\",\n",
    "                   \"all_pcd\")"
   ]
  },
  {
   "cell_type": "code",
   "execution_count": null,
   "id": "cb76f948-f8b3-4221-9128-2288003488f4",
   "metadata": {},
   "outputs": [],
   "source": [
    "ispstats = InSilicoPerturberStats(mode=\"goal_state_shift\",\n",
    "                                  genes_perturbed=\"all\",\n",
    "                                  combos=0,\n",
    "                                  anchor_gene=None,\n",
    "                                  cell_states_to_model=cell_states_to_model)\n",
    "ispstats.get_stats(\"/root/autodl-tmp/perturbation/all_cells/\",\n",
    "                   None,\n",
    "                   \"/root/autodl-tmp/perturbation/all_cells/out\",\n",
    "                   \"all_pcd_res\")"
   ]
  }
 ],
 "metadata": {
  "kernelspec": {
   "display_name": "dl",
   "language": "python",
   "name": "dl"
  },
  "language_info": {
   "codemirror_mode": {
    "name": "ipython",
    "version": 3
   },
   "file_extension": ".py",
   "mimetype": "text/x-python",
   "name": "python",
   "nbconvert_exporter": "python",
   "pygments_lexer": "ipython3",
   "version": "3.9.18"
  }
 },
 "nbformat": 4,
 "nbformat_minor": 5
}
